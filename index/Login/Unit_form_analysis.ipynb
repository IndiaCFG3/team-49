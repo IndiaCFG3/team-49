{
 "cells": [
  {
   "cell_type": "code",
   "execution_count": 6,
   "metadata": {},
   "outputs": [],
   "source": [
    "import pandas as pd\n",
    "import numpy as np"
   ]
  },
  {
   "cell_type": "code",
   "execution_count": 7,
   "metadata": {},
   "outputs": [
    {
     "name": "stdout",
     "output_type": "stream",
     "text": [
      "   Class           Comments  Ideas  Make_and_Test  Plan  Presentation  \\\n",
      "0      2    hekjkjelkjwqlej      3              3     2             2   \n",
      "1      6     reshfdjgfdcghm      5              3     3             3   \n",
      "2      9  hjgsdghdsgjkdglhj      5              4     1             2   \n",
      "3      5          kghajhgdf      3              2     3             4   \n",
      "\n",
      "  School_name  Team_no  id  \n",
      "0         xyz        2   1  \n",
      "1        lmnf        4   2  \n",
      "2        ghfh        5   3  \n",
      "3         ghi        6   4  \n"
     ]
    }
   ],
   "source": [
    "df = pd.read_json (r'..\\UEF.json')\n",
    "#df = pd.read_csv(\"data.csv\") \n",
    "print(df) "
   ]
  },
  {
   "cell_type": "code",
   "execution_count": 8,
   "metadata": {},
   "outputs": [
    {
     "data": {
      "text/html": [
       "<div>\n",
       "<style scoped>\n",
       "    .dataframe tbody tr th:only-of-type {\n",
       "        vertical-align: middle;\n",
       "    }\n",
       "\n",
       "    .dataframe tbody tr th {\n",
       "        vertical-align: top;\n",
       "    }\n",
       "\n",
       "    .dataframe thead th {\n",
       "        text-align: right;\n",
       "    }\n",
       "</style>\n",
       "<table border=\"1\" class=\"dataframe\">\n",
       "  <thead>\n",
       "    <tr style=\"text-align: right;\">\n",
       "      <th></th>\n",
       "      <th>Class</th>\n",
       "      <th>Comments</th>\n",
       "      <th>Ideas</th>\n",
       "      <th>Make_and_Test</th>\n",
       "      <th>Plan</th>\n",
       "      <th>Presentation</th>\n",
       "      <th>School_name</th>\n",
       "      <th>Team_no</th>\n",
       "      <th>id</th>\n",
       "    </tr>\n",
       "  </thead>\n",
       "  <tbody>\n",
       "    <tr>\n",
       "      <th>0</th>\n",
       "      <td>2</td>\n",
       "      <td>hekjkjelkjwqlej</td>\n",
       "      <td>3</td>\n",
       "      <td>3</td>\n",
       "      <td>2</td>\n",
       "      <td>2</td>\n",
       "      <td>xyz</td>\n",
       "      <td>2</td>\n",
       "      <td>1</td>\n",
       "    </tr>\n",
       "    <tr>\n",
       "      <th>1</th>\n",
       "      <td>6</td>\n",
       "      <td>reshfdjgfdcghm</td>\n",
       "      <td>5</td>\n",
       "      <td>3</td>\n",
       "      <td>3</td>\n",
       "      <td>3</td>\n",
       "      <td>lmnf</td>\n",
       "      <td>4</td>\n",
       "      <td>2</td>\n",
       "    </tr>\n",
       "    <tr>\n",
       "      <th>2</th>\n",
       "      <td>9</td>\n",
       "      <td>hjgsdghdsgjkdglhj</td>\n",
       "      <td>5</td>\n",
       "      <td>4</td>\n",
       "      <td>1</td>\n",
       "      <td>2</td>\n",
       "      <td>ghfh</td>\n",
       "      <td>5</td>\n",
       "      <td>3</td>\n",
       "    </tr>\n",
       "    <tr>\n",
       "      <th>3</th>\n",
       "      <td>5</td>\n",
       "      <td>kghajhgdf</td>\n",
       "      <td>3</td>\n",
       "      <td>2</td>\n",
       "      <td>3</td>\n",
       "      <td>4</td>\n",
       "      <td>ghi</td>\n",
       "      <td>6</td>\n",
       "      <td>4</td>\n",
       "    </tr>\n",
       "  </tbody>\n",
       "</table>\n",
       "</div>"
      ],
      "text/plain": [
       "   Class           Comments  Ideas  Make_and_Test  Plan  Presentation  \\\n",
       "0      2    hekjkjelkjwqlej      3              3     2             2   \n",
       "1      6     reshfdjgfdcghm      5              3     3             3   \n",
       "2      9  hjgsdghdsgjkdglhj      5              4     1             2   \n",
       "3      5          kghajhgdf      3              2     3             4   \n",
       "\n",
       "  School_name  Team_no  id  \n",
       "0         xyz        2   1  \n",
       "1        lmnf        4   2  \n",
       "2        ghfh        5   3  \n",
       "3         ghi        6   4  "
      ]
     },
     "execution_count": 8,
     "metadata": {},
     "output_type": "execute_result"
    }
   ],
   "source": [
    "df.head()"
   ]
  },
  {
   "cell_type": "code",
   "execution_count": 9,
   "metadata": {},
   "outputs": [
    {
     "data": {
      "text/html": [
       "<div>\n",
       "<style scoped>\n",
       "    .dataframe tbody tr th:only-of-type {\n",
       "        vertical-align: middle;\n",
       "    }\n",
       "\n",
       "    .dataframe tbody tr th {\n",
       "        vertical-align: top;\n",
       "    }\n",
       "\n",
       "    .dataframe thead th {\n",
       "        text-align: right;\n",
       "    }\n",
       "</style>\n",
       "<table border=\"1\" class=\"dataframe\">\n",
       "  <thead>\n",
       "    <tr style=\"text-align: right;\">\n",
       "      <th></th>\n",
       "      <th>Class</th>\n",
       "      <th>Comments</th>\n",
       "      <th>Ideas</th>\n",
       "      <th>Make_and_Test</th>\n",
       "      <th>Plan</th>\n",
       "      <th>Presentation</th>\n",
       "      <th>School_name</th>\n",
       "      <th>Team_no</th>\n",
       "      <th>id</th>\n",
       "    </tr>\n",
       "  </thead>\n",
       "  <tbody>\n",
       "    <tr>\n",
       "      <th>0</th>\n",
       "      <td>2</td>\n",
       "      <td>hekjkjelkjwqlej</td>\n",
       "      <td>3</td>\n",
       "      <td>3</td>\n",
       "      <td>2</td>\n",
       "      <td>2</td>\n",
       "      <td>xyz</td>\n",
       "      <td>2</td>\n",
       "      <td>1</td>\n",
       "    </tr>\n",
       "    <tr>\n",
       "      <th>1</th>\n",
       "      <td>6</td>\n",
       "      <td>reshfdjgfdcghm</td>\n",
       "      <td>5</td>\n",
       "      <td>3</td>\n",
       "      <td>3</td>\n",
       "      <td>3</td>\n",
       "      <td>lmnf</td>\n",
       "      <td>4</td>\n",
       "      <td>2</td>\n",
       "    </tr>\n",
       "    <tr>\n",
       "      <th>2</th>\n",
       "      <td>9</td>\n",
       "      <td>hjgsdghdsgjkdglhj</td>\n",
       "      <td>5</td>\n",
       "      <td>4</td>\n",
       "      <td>1</td>\n",
       "      <td>2</td>\n",
       "      <td>ghfh</td>\n",
       "      <td>5</td>\n",
       "      <td>3</td>\n",
       "    </tr>\n",
       "    <tr>\n",
       "      <th>3</th>\n",
       "      <td>5</td>\n",
       "      <td>kghajhgdf</td>\n",
       "      <td>3</td>\n",
       "      <td>2</td>\n",
       "      <td>3</td>\n",
       "      <td>4</td>\n",
       "      <td>ghi</td>\n",
       "      <td>6</td>\n",
       "      <td>4</td>\n",
       "    </tr>\n",
       "  </tbody>\n",
       "</table>\n",
       "</div>"
      ],
      "text/plain": [
       "   Class           Comments  Ideas  Make_and_Test  Plan  Presentation  \\\n",
       "0      2    hekjkjelkjwqlej      3              3     2             2   \n",
       "1      6     reshfdjgfdcghm      5              3     3             3   \n",
       "2      9  hjgsdghdsgjkdglhj      5              4     1             2   \n",
       "3      5          kghajhgdf      3              2     3             4   \n",
       "\n",
       "  School_name  Team_no  id  \n",
       "0         xyz        2   1  \n",
       "1        lmnf        4   2  \n",
       "2        ghfh        5   3  \n",
       "3         ghi        6   4  "
      ]
     },
     "execution_count": 9,
     "metadata": {},
     "output_type": "execute_result"
    }
   ],
   "source": [
    "df.dropna(inplace=True)\n",
    "df"
   ]
  },
  {
   "cell_type": "code",
   "execution_count": 10,
   "metadata": {},
   "outputs": [],
   "source": [
    "import matplotlib.pyplot as plt\n",
    "import seaborn as sns"
   ]
  },
  {
   "cell_type": "code",
   "execution_count": 11,
   "metadata": {},
   "outputs": [
    {
     "data": {
      "image/png": "[encoded data removed]",
      "text/plain": [
       "<Figure size 432x288 with 1 Axes>"
      ]
     },
     "metadata": {},
     "output_type": "display_data"
    }
   ],
   "source": [
    "ideas_count = df['Ideas'].value_counts()\n",
    "sns.set(style=\"darkgrid\")\n",
    "sns.barplot(ideas_count.index, ideas_count.values, alpha=0.9)\n",
    "plt.title('Frequency Distribution of ideas')\n",
    "plt.ylabel('Number of Occurrences', fontsize=12)\n",
    "plt.xlabel('ideas', fontsize=12)\n",
    "plt.savefig('foo1.png', dpi=100, progressive = True)\n",
    "plt.show()"
   ]
  },
  {
   "cell_type": "code",
   "execution_count": 12,
   "metadata": {},
   "outputs": [
    {
     "data": {
      "image/png": "[encoded data removed]",
      "text/plain": [
       "<Figure size 432x288 with 1 Axes>"
      ]
     },
     "metadata": {},
     "output_type": "display_data"
    }
   ],
   "source": [
    "plan_count = df['Plan'].value_counts()\n",
    "sns.set(style=\"darkgrid\")\n",
    "sns.barplot(plan_count.index, plan_count.values, alpha=0.9)\n",
    "plt.title('Frequency Distribution of plan')\n",
    "plt.ylabel('Number of Occurrences', fontsize=12)\n",
    "plt.xlabel('ideas', fontsize=12)\n",
    "plt.savefig('foo2.png', dpi=100, progressive = True)\n",
    "plt.show()"
   ]
  },
  {
   "cell_type": "code",
   "execution_count": 15,
   "metadata": {},
   "outputs": [
    {
     "data": {
      "image/png": "[encoded data removed]",
      "text/plain": [
       "<Figure size 432x288 with 1 Axes>"
      ]
     },
     "metadata": {},
     "output_type": "display_data"
    }
   ],
   "source": [
    "Make_and_test_count = df['Make_and_Test'].value_counts()\n",
    "sns.set(style=\"darkgrid\")\n",
    "sns.barplot(Make_and_test_count.index,Make_and_test_count.values, alpha=0.9)\n",
    "plt.title('Frequency Distribution of Make_and_test')\n",
    "plt.ylabel('Number of Occurrences', fontsize=12)\n",
    "plt.xlabel('ideas', fontsize=12)\n",
    "plt.savefig('foo3.png', dpi=100, progressive = True)\n",
    "plt.show()"
   ]
  },
  {
   "cell_type": "code",
   "execution_count": 16,
   "metadata": {},
   "outputs": [
    {
     "data": {
      "image/png": "[encoded data removed]",
      "text/plain": [
       "<Figure size 432x288 with 1 Axes>"
      ]
     },
     "metadata": {},
     "output_type": "display_data"
    }
   ],
   "source": [
    "Presentation_count = df['Presentation'].value_counts()\n",
    "sns.set(style=\"darkgrid\")\n",
    "sns.barplot(Presentation_count.index, Presentation_count.values, alpha=0.9)\n",
    "plt.title('Frequency Distribution of Presentation')\n",
    "plt.ylabel('Number of Occurrences', fontsize=12)\n",
    "plt.xlabel('ideas', fontsize=12)\n",
    "plt.savefig('foo4.png', dpi=100, progressive = True)\n",
    "plt.show()"
   ]
  },
  {
   "cell_type": "code",
   "execution_count": null,
   "metadata": {},
   "outputs": [],
   "source": []
  },
  {
   "cell_type": "code",
   "execution_count": null,
   "metadata": {},
   "outputs": [],
   "source": []
  },
  {
   "cell_type": "code",
   "execution_count": null,
   "metadata": {},
   "outputs": [],
   "source": []
  }
 ],
 "metadata": {
  "kernelspec": {
   "display_name": "Python 3",
   "language": "python",
   "name": "python3"
  },
  "language_info": {
   "codemirror_mode": {
    "name": "ipython",
    "version": 3
   },
   "file_extension": ".py",
   "mimetype": "text/x-python",
   "name": "python",
   "nbconvert_exporter": "python",
   "pygments_lexer": "ipython3",
   "version": "3.7.3"
  }
 },
 "nbformat": 4,
 "nbformat_minor": 2
}
