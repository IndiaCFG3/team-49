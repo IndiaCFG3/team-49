{
 "cells": [
  {
   "cell_type": "code",
   "execution_count": 1,
   "metadata": {},
   "outputs": [],
   "source": [
    "import pandas as pd\n",
    "import numpy as np"
   ]
  },
  {
   "cell_type": "code",
   "execution_count": 6,
   "metadata": {},
   "outputs": [
    {
     "name": "stdout",
     "output_type": "stream",
     "text": [
      "   Class_presence  Helping_teams  Initiative          Notes  Preparation  \\\n",
      "0               4              1           2    Quite Nice.            3   \n",
      "1               3              3           3   Great Class.            2   \n",
      "2               4              2           3    Disciplined            3   \n",
      "3               2              3           1  Hard Working.            3   \n",
      "4               5              4           3   Quiet Class.            2   \n",
      "\n",
      "   Teacher_id Teacher_name  \n",
      "0         509        Rahul  \n",
      "1         510        Priya  \n",
      "2         511         Gita  \n",
      "3         512          Jay  \n",
      "4         513      Karthik  \n"
     ]
    }
   ],
   "source": [
    "df = pd.read_json ('..\\CLASSOBS.json')\n",
    "#df = pd.read_csv(\"data.csv\") \n",
    "print(df) "
   ]
  },
  {
   "cell_type": "code",
   "execution_count": 7,
   "metadata": {},
   "outputs": [
    {
     "data": {
      "text/html": [
       "<div>\n",
       "<style scoped>\n",
       "    .dataframe tbody tr th:only-of-type {\n",
       "        vertical-align: middle;\n",
       "    }\n",
       "\n",
       "    .dataframe tbody tr th {\n",
       "        vertical-align: top;\n",
       "    }\n",
       "\n",
       "    .dataframe thead th {\n",
       "        text-align: right;\n",
       "    }\n",
       "</style>\n",
       "<table border=\"1\" class=\"dataframe\">\n",
       "  <thead>\n",
       "    <tr style=\"text-align: right;\">\n",
       "      <th></th>\n",
       "      <th>Class_presence</th>\n",
       "      <th>Helping_teams</th>\n",
       "      <th>Initiative</th>\n",
       "      <th>Notes</th>\n",
       "      <th>Preparation</th>\n",
       "      <th>Teacher_id</th>\n",
       "      <th>Teacher_name</th>\n",
       "    </tr>\n",
       "  </thead>\n",
       "  <tbody>\n",
       "    <tr>\n",
       "      <th>0</th>\n",
       "      <td>4</td>\n",
       "      <td>1</td>\n",
       "      <td>2</td>\n",
       "      <td>Quite Nice.</td>\n",
       "      <td>3</td>\n",
       "      <td>509</td>\n",
       "      <td>Rahul</td>\n",
       "    </tr>\n",
       "    <tr>\n",
       "      <th>1</th>\n",
       "      <td>3</td>\n",
       "      <td>3</td>\n",
       "      <td>3</td>\n",
       "      <td>Great Class.</td>\n",
       "      <td>2</td>\n",
       "      <td>510</td>\n",
       "      <td>Priya</td>\n",
       "    </tr>\n",
       "    <tr>\n",
       "      <th>2</th>\n",
       "      <td>4</td>\n",
       "      <td>2</td>\n",
       "      <td>3</td>\n",
       "      <td>Disciplined</td>\n",
       "      <td>3</td>\n",
       "      <td>511</td>\n",
       "      <td>Gita</td>\n",
       "    </tr>\n",
       "    <tr>\n",
       "      <th>3</th>\n",
       "      <td>2</td>\n",
       "      <td>3</td>\n",
       "      <td>1</td>\n",
       "      <td>Hard Working.</td>\n",
       "      <td>3</td>\n",
       "      <td>512</td>\n",
       "      <td>Jay</td>\n",
       "    </tr>\n",
       "    <tr>\n",
       "      <th>4</th>\n",
       "      <td>5</td>\n",
       "      <td>4</td>\n",
       "      <td>3</td>\n",
       "      <td>Quiet Class.</td>\n",
       "      <td>2</td>\n",
       "      <td>513</td>\n",
       "      <td>Karthik</td>\n",
       "    </tr>\n",
       "  </tbody>\n",
       "</table>\n",
       "</div>"
      ],
      "text/plain": [
       "   Class_presence  Helping_teams  Initiative          Notes  Preparation  \\\n",
       "0               4              1           2    Quite Nice.            3   \n",
       "1               3              3           3   Great Class.            2   \n",
       "2               4              2           3    Disciplined            3   \n",
       "3               2              3           1  Hard Working.            3   \n",
       "4               5              4           3   Quiet Class.            2   \n",
       "\n",
       "   Teacher_id Teacher_name  \n",
       "0         509        Rahul  \n",
       "1         510        Priya  \n",
       "2         511         Gita  \n",
       "3         512          Jay  \n",
       "4         513      Karthik  "
      ]
     },
     "execution_count": 7,
     "metadata": {},
     "output_type": "execute_result"
    }
   ],
   "source": [
    "df.head()"
   ]
  },
  {
   "cell_type": "code",
   "execution_count": 8,
   "metadata": {},
   "outputs": [
    {
     "data": {
      "text/html": [
       "<div>\n",
       "<style scoped>\n",
       "    .dataframe tbody tr th:only-of-type {\n",
       "        vertical-align: middle;\n",
       "    }\n",
       "\n",
       "    .dataframe tbody tr th {\n",
       "        vertical-align: top;\n",
       "    }\n",
       "\n",
       "    .dataframe thead th {\n",
       "        text-align: right;\n",
       "    }\n",
       "</style>\n",
       "<table border=\"1\" class=\"dataframe\">\n",
       "  <thead>\n",
       "    <tr style=\"text-align: right;\">\n",
       "      <th></th>\n",
       "      <th>Class_presence</th>\n",
       "      <th>Helping_teams</th>\n",
       "      <th>Initiative</th>\n",
       "      <th>Notes</th>\n",
       "      <th>Preparation</th>\n",
       "      <th>Teacher_id</th>\n",
       "      <th>Teacher_name</th>\n",
       "    </tr>\n",
       "  </thead>\n",
       "  <tbody>\n",
       "    <tr>\n",
       "      <th>0</th>\n",
       "      <td>4</td>\n",
       "      <td>1</td>\n",
       "      <td>2</td>\n",
       "      <td>Quite Nice.</td>\n",
       "      <td>3</td>\n",
       "      <td>509</td>\n",
       "      <td>Rahul</td>\n",
       "    </tr>\n",
       "    <tr>\n",
       "      <th>1</th>\n",
       "      <td>3</td>\n",
       "      <td>3</td>\n",
       "      <td>3</td>\n",
       "      <td>Great Class.</td>\n",
       "      <td>2</td>\n",
       "      <td>510</td>\n",
       "      <td>Priya</td>\n",
       "    </tr>\n",
       "    <tr>\n",
       "      <th>2</th>\n",
       "      <td>4</td>\n",
       "      <td>2</td>\n",
       "      <td>3</td>\n",
       "      <td>Disciplined</td>\n",
       "      <td>3</td>\n",
       "      <td>511</td>\n",
       "      <td>Gita</td>\n",
       "    </tr>\n",
       "    <tr>\n",
       "      <th>3</th>\n",
       "      <td>2</td>\n",
       "      <td>3</td>\n",
       "      <td>1</td>\n",
       "      <td>Hard Working.</td>\n",
       "      <td>3</td>\n",
       "      <td>512</td>\n",
       "      <td>Jay</td>\n",
       "    </tr>\n",
       "    <tr>\n",
       "      <th>4</th>\n",
       "      <td>5</td>\n",
       "      <td>4</td>\n",
       "      <td>3</td>\n",
       "      <td>Quiet Class.</td>\n",
       "      <td>2</td>\n",
       "      <td>513</td>\n",
       "      <td>Karthik</td>\n",
       "    </tr>\n",
       "  </tbody>\n",
       "</table>\n",
       "</div>"
      ],
      "text/plain": [
       "   Class_presence  Helping_teams  Initiative          Notes  Preparation  \\\n",
       "0               4              1           2    Quite Nice.            3   \n",
       "1               3              3           3   Great Class.            2   \n",
       "2               4              2           3    Disciplined            3   \n",
       "3               2              3           1  Hard Working.            3   \n",
       "4               5              4           3   Quiet Class.            2   \n",
       "\n",
       "   Teacher_id Teacher_name  \n",
       "0         509        Rahul  \n",
       "1         510        Priya  \n",
       "2         511         Gita  \n",
       "3         512          Jay  \n",
       "4         513      Karthik  "
      ]
     },
     "execution_count": 8,
     "metadata": {},
     "output_type": "execute_result"
    }
   ],
   "source": [
    "df.dropna(inplace=True)\n",
    "df"
   ]
  },
  {
   "cell_type": "code",
   "execution_count": null,
   "metadata": {},
   "outputs": [],
   "source": []
  },
  {
   "cell_type": "code",
   "execution_count": 9,
   "metadata": {},
   "outputs": [],
   "source": [
    "import matplotlib.pyplot as plt\n",
    "import seaborn as sns"
   ]
  },
  {
   "cell_type": "code",
   "execution_count": 10,
   "metadata": {},
   "outputs": [
    {
     "data": {
      "image/png": "[encoded data removed]",
      "text/plain": [
       "<Figure size 432x288 with 1 Axes>"
      ]
     },
     "metadata": {},
     "output_type": "display_data"
    }
   ],
   "source": [
    "Initiative_count = df['Initiative'].value_counts()\n",
    "sns.set(style=\"darkgrid\")\n",
    "sns.barplot(Initiative_count.index, Initiative_count.values, alpha=0.9)\n",
    "plt.title('Frequency Distribution of Initiative')\n",
    "plt.ylabel('Number of Occurrences', fontsize=12)\n",
    "plt.xlabel('Initiative', fontsize=12)\n",
    "plt.savefig('hi1.png', dpi=100, progressive = True)\n",
    "plt.show()"
   ]
  },
  {
   "cell_type": "code",
   "execution_count": 11,
   "metadata": {},
   "outputs": [
    {
     "data": {
      "image/png": "[encoded data removed]",
      "text/plain": [
       "<Figure size 432x288 with 1 Axes>"
      ]
     },
     "metadata": {},
     "output_type": "display_data"
    }
   ],
   "source": [
    "Preparation_count = df['Preparation'].value_counts()\n",
    "sns.set(style=\"darkgrid\")\n",
    "sns.barplot(Preparation_count.index, Preparation_count.values, alpha=0.9)\n",
    "plt.title('Frequency Distribution of Preparation')\n",
    "plt.ylabel('Number of Occurrences', fontsize=12)\n",
    "plt.xlabel('Preparation', fontsize=12)\n",
    "plt.savefig('hi2.png', dpi=100, progressive = True)\n",
    "plt.show()"
   ]
  },
  {
   "cell_type": "code",
   "execution_count": 12,
   "metadata": {},
   "outputs": [
    {
     "data": {
      "image/png": "[encoded data removed]",
      "text/plain": [
       "<Figure size 432x288 with 1 Axes>"
      ]
     },
     "metadata": {},
     "output_type": "display_data"
    }
   ],
   "source": [
    "Helping_teams_count = df['Helping_teams'].value_counts()\n",
    "sns.set(style=\"darkgrid\")\n",
    "sns.barplot(Helping_teams_count.index, Helping_teams_count.values, alpha=0.9)\n",
    "plt.title('Frequency Distribution of Helping_teams')\n",
    "plt.ylabel('Number of Occurrences', fontsize=12)\n",
    "plt.xlabel('Helping_teams', fontsize=12)\n",
    "plt.savefig('hi3.png', dpi=100, progressive = True)\n",
    "plt.show()"
   ]
  },
  {
   "cell_type": "code",
   "execution_count": null,
   "metadata": {},
   "outputs": [],
   "source": []
  }
 ],
 "metadata": {
  "kernelspec": {
   "display_name": "Python 3",
   "language": "python",
   "name": "python3"
  },
  "language_info": {
   "codemirror_mode": {
    "name": "ipython",
    "version": 3
   },
   "file_extension": ".py",
   "mimetype": "text/x-python",
   "name": "python",
   "nbconvert_exporter": "python",
   "pygments_lexer": "ipython3",
   "version": "3.7.3"
  }
 },
 "nbformat": 4,
 "nbformat_minor": 2
}
