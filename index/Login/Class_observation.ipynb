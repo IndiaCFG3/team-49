{
 "cells": [
  {
   "cell_type": "code",
   "execution_count": null,
   "metadata": {},
   "outputs": [],
   "source": [
    "import pandas as pd\n",
    "import numpy as np"
   ]
  },
  {
   "cell_type": "code",
   "execution_count": null,
   "metadata": {},
   "outputs": [],
   "source": [
    "df = pd.read_json (r'C:\\Users\\Ron\\Desktop\\data.json')\n",
    "#df = pd.read_csv(\"data.csv\") \n",
    "print(df) "
   ]
  },
  {
   "cell_type": "code",
   "execution_count": null,
   "metadata": {},
   "outputs": [],
   "source": [
    "df.head()"
   ]
  },
  {
   "cell_type": "code",
   "execution_count": null,
   "metadata": {},
   "outputs": [],
   "source": [
    "df.dropna(inplace=True)\n",
    "df"
   ]
  },
  {
   "cell_type": "code",
   "execution_count": null,
   "metadata": {},
   "outputs": [],
   "source": [
    "df = df.drop(df.columns[-1],axis=1)\n",
    "df"
   ]
  },
  {
   "cell_type": "code",
   "execution_count": null,
   "metadata": {},
   "outputs": [],
   "source": [
    "import matplotlib.pyplot as plt\n",
    "import seaborn as sns"
   ]
  },
  {
   "cell_type": "code",
   "execution_count": null,
   "metadata": {},
   "outputs": [],
   "source": [
    "Initiative_count = df['Initiative'].value_counts()\n",
    "sns.set(style=\"darkgrid\")\n",
    "sns.barplot(Initiative_count.index, Initiative_count.values, alpha=0.9)\n",
    "plt.title('Frequency Distribution of Initiative')\n",
    "plt.ylabel('Number of Occurrences', fontsize=12)\n",
    "plt.xlabel('Initiative', fontsize=12)\n",
    "plt.savefig('hi1.png', dpi=100, progressive = True)\n",
    "plt.show()"
   ]
  },
  {
   "cell_type": "code",
   "execution_count": null,
   "metadata": {},
   "outputs": [],
   "source": [
    "Preparation_count = df['Preparation'].value_counts()\n",
    "sns.set(style=\"darkgrid\")\n",
    "sns.barplot(Preparation_count.index, Preparation_count.values, alpha=0.9)\n",
    "plt.title('Frequency Distribution of Preparation')\n",
    "plt.ylabel('Number of Occurrences', fontsize=12)\n",
    "plt.xlabel('Preparation', fontsize=12)\n",
    "plt.savefig('hi2.png', dpi=100, progressive = True)\n",
    "plt.show()"
   ]
  },
  {
   "cell_type": "code",
   "execution_count": null,
   "metadata": {},
   "outputs": [],
   "source": [
    "Helping_teams_count = df['Helping_teams'].value_counts()\n",
    "sns.set(style=\"darkgrid\")\n",
    "sns.barplot(Helping_teams_count.index, Helping_teams_count.values, alpha=0.9)\n",
    "plt.title('Frequency Distribution of Helping_teams')\n",
    "plt.ylabel('Number of Occurrences', fontsize=12)\n",
    "plt.xlabel('Helping_teams', fontsize=12)\n",
    "plt.savefig('hi3.png', dpi=100, progressive = True)\n",
    "plt.show()"
   ]
  }
 ],
 "metadata": {
  "kernelspec": {
   "display_name": "Python 3",
   "language": "python",
   "name": "python3"
  },
  "language_info": {
   "codemirror_mode": {
    "name": "ipython",
    "version": 3
   },
   "file_extension": ".py",
   "mimetype": "text/x-python",
   "name": "python",
   "nbconvert_exporter": "python",
   "pygments_lexer": "ipython3",
   "version": "3.7.3"
  }
 },
 "nbformat": 4,
 "nbformat_minor": 2
}
